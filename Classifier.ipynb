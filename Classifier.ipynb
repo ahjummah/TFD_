{
 "cells": [
  {
   "cell_type": "code",
   "execution_count": 32,
   "metadata": {
    "collapsed": false,
    "deletable": true,
    "editable": true
   },
   "outputs": [],
   "source": [
    "import pickle\n",
    "import sys\n",
    "from Preprocessing import remove_punctuations\n",
    "from Preprocessing import remove_stopwords\n",
    "from sklearn.utils import compute_class_weight\n",
    "from sklearn.preprocessing import LabelEncoder\n",
    "import numpy as np"
   ]
  },
  {
   "cell_type": "code",
   "execution_count": 33,
   "metadata": {
    "collapsed": false,
    "deletable": true,
    "editable": true
   },
   "outputs": [],
   "source": [
    "with open('Models/classifier.pkl', 'rb') as f:\n",
    "    clf = pickle.load(f)\n",
    "    \n",
    "with open('Models/vectorizer.pkl', 'rb') as g:\n",
    "    vectorizer = pickle.load(g)\n",
    "    \n",
    "with open('Models/lsa.pkl', 'rb') as h:\n",
    "    lsa = pickle.load(h)\n",
    "        "
   ]
  },
  {
   "cell_type": "code",
   "execution_count": 34,
   "metadata": {
    "collapsed": false,
    "deletable": true,
    "editable": true,
    "scrolled": true
   },
   "outputs": [
    {
     "name": "stdout",
     "output_type": "stream",
     "text": [
      "you little shit haha stupid fuck \n",
      "output [1]\n",
      "Do you feel like you are being bashed?[0/1]:\n",
      "0\n"
     ]
    }
   ],
   "source": [
    "# a = raw_input(\"Enter:\\n\")\n",
    "a = \"you little shit haha stupid fuck\"\n",
    "a = remove_punctuations.removePunctuations(a)\n",
    "a = remove_stopwords.remove_words(a)\n",
    "print a\n",
    "X = vectorizer.transform([a]) \n",
    "tfidf = X.toarray()\n",
    "lsa_ = lsa.transform(X)\n",
    "final_representation = np.concatenate((tfidf,lsa_),axis=1)\n",
    "print \"output\",clf.predict(final_representation)\n",
    "\n",
    "label = []\n",
    "_input = raw_input(\"Do you feel like you are being bashed?[0/1]:\\n\")\n",
    "label.append(_input)"
   ]
  },
  {
   "cell_type": "code",
   "execution_count": 35,
   "metadata": {
    "collapsed": false
   },
   "outputs": [
    {
     "name": "stdout",
     "output_type": "stream",
     "text": [
      "output [1]\n",
      "Do you feel like you are being bashed?[0/1]:\n",
      "1\n"
     ]
    }
   ],
   "source": [
    "b = \" @jessa you stupid\"\n",
    "b = remove_punctuations.removePunctuations(b)\n",
    "b = remove_stopwords.remove_words(b)\n",
    "\n",
    "X1 = vectorizer.transform([b])\n",
    "tfidf = X1.toarray()\n",
    "lsa_ = lsa.transform(X1)\n",
    "final_representation = np.concatenate((tfidf,lsa_),axis=1)\n",
    "print \"output\",clf.predict(final_representation)\n",
    "_input = raw_input(\"Do you feel like you are being bashed?[0/1]:\\n\")\n",
    "label.append(_input)"
   ]
  },
  {
   "cell_type": "code",
   "execution_count": 36,
   "metadata": {
    "collapsed": false
   },
   "outputs": [
    {
     "name": "stdout",
     "output_type": "stream",
     "text": [
      "(2,)\n",
      "(2,)\n"
     ]
    }
   ],
   "source": [
    "new_feed = []\n",
    "new_feed.append(a)\n",
    "new_feed.append(b)\n",
    "c = []\n",
    "\n",
    "for tweet in new_feed:\n",
    "    c.append(remove_stopwords.remove_words(remove_punctuations.removePunctuations(tweet)))\n",
    "    \n",
    "X_new = np.array(c)   \n",
    "y_new = np.array(label)\n",
    "le = LabelEncoder()\n",
    "y_encoded = le.fit_transform(y_new)\n",
    "print X_new.shape\n",
    "print y_new.shape"
   ]
  },
  {
   "cell_type": "code",
   "execution_count": 37,
   "metadata": {
    "collapsed": false
   },
   "outputs": [],
   "source": [
    "X2 = vectorizer.transform(X_new)\n",
    "tfidf = X2.toarray()\n",
    "lsa_ = lsa.transform(X2)\n",
    "final_representation = np.concatenate((tfidf,lsa_),axis=1)"
   ]
  },
  {
   "cell_type": "code",
   "execution_count": 38,
   "metadata": {
    "collapsed": false
   },
   "outputs": [
    {
     "data": {
      "text/plain": [
       "SGDClassifier(alpha=0.0001, average=False,\n",
       "       class_weight={1: 1.3945615982241952}, epsilon=0.1, eta0=0.0,\n",
       "       fit_intercept=True, l1_ratio=0.15, learning_rate='optimal',\n",
       "       loss='hinge', n_iter=5, n_jobs=1, penalty='l2', power_t=0.5,\n",
       "       random_state=None, shuffle=True, verbose=0, warm_start=False)"
      ]
     },
     "execution_count": 38,
     "metadata": {},
     "output_type": "execute_result"
    }
   ],
   "source": [
    "# class_weights = compute_class_weight('balanced', [0, 1], y_new)\n",
    "# class_weight_dictionary = {1:class_weights[0], 1:class_weights[1]}\n",
    "clf.partial_fit(final_representation,y_encoded)"
   ]
  },
  {
   "cell_type": "code",
   "execution_count": 39,
   "metadata": {
    "collapsed": false
   },
   "outputs": [],
   "source": [
    "# save to pickle\n",
    "import pickle\n",
    "\n",
    "with open('Models/classifier.pkl', 'wb') as f:\n",
    "    pickle.dump(clf, f)"
   ]
  }
 ],
 "metadata": {
  "kernelspec": {
   "display_name": "Python 2",
   "language": "python",
   "name": "python2"
  },
  "language_info": {
   "codemirror_mode": {
    "name": "ipython",
    "version": 2
   },
   "file_extension": ".py",
   "mimetype": "text/x-python",
   "name": "python",
   "nbconvert_exporter": "python",
   "pygments_lexer": "ipython2",
   "version": "2.7.13"
  }
 },
 "nbformat": 4,
 "nbformat_minor": 2
}
