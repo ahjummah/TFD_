{
 "cells": [
  {
   "cell_type": "code",
   "execution_count": 125,
   "metadata": {
    "collapsed": false,
    "deletable": true,
    "editable": true
   },
   "outputs": [],
   "source": [
    "import pickle\n",
    "import sys\n",
    "from Preprocessing import remove_punctuations\n",
    "from Preprocessing import remove_stopwords\n",
    "import numpy as np"
   ]
  },
  {
   "cell_type": "code",
   "execution_count": 126,
   "metadata": {
    "collapsed": false,
    "deletable": true,
    "editable": true
   },
   "outputs": [],
   "source": [
    "with open('System/classifier.pkl', 'rb') as f:\n",
    "    clf = pickle.load(f)\n",
    "    \n",
    "with open('System/vectorizer.pkl', 'rb') as g:\n",
    "    vectorizer = pickle.load(g)\n",
    "    \n",
    "with open('System/lsa.pkl', 'rb') as h:\n",
    "    lsa = pickle.load(h)\n",
    "        "
   ]
  },
  {
   "cell_type": "code",
   "execution_count": 127,
   "metadata": {
    "collapsed": false,
    "deletable": true,
    "editable": true,
    "scrolled": true
   },
   "outputs": [
    {
     "name": "stdout",
     "output_type": "stream",
     "text": [
      "@jessa\n",
      "you\n",
      "are\n",
      "fucking\n",
      "beautiful\n",
      "[1]\n"
     ]
    }
   ],
   "source": [
    "# a = raw_input(\"Enter:\\n\")\n",
    "a = \"@jessa you are fucking beautiful\"\n",
    "a = remove_punctuations.removePunctuations(a)\n",
    "a = remove_stopwords.remove_words(a)\n",
    "X = vectorizer.transform([a]) \n",
    "tfidf = X.toarray()\n",
    "lsa_ = lsa.transform(X)\n",
    "final_representation = np.concatenate((tfidf,lsa_),axis=1)\n",
    "print clf.predict(final_representation)"
   ]
  },
  {
   "cell_type": "code",
   "execution_count": 128,
   "metadata": {
    "collapsed": false,
    "deletable": true,
    "editable": true
   },
   "outputs": [
    {
     "name": "stdout",
     "output_type": "stream",
     "text": [
      "Do you feel like you are being bullied?[0/1]:\n",
      "0\n",
      "(1, 3196)\n"
     ]
    }
   ],
   "source": [
    "_input = input(\"Do you feel like you are being bullied?[0/1]:\\n\")\n",
    "print final_representation.shape"
   ]
  },
  {
   "cell_type": "code",
   "execution_count": 129,
   "metadata": {
    "collapsed": false
   },
   "outputs": [],
   "source": [
    "# clf.partial_fit(final_representation,label)"
   ]
  },
  {
   "cell_type": "code",
   "execution_count": null,
   "metadata": {
    "collapsed": true
   },
   "outputs": [],
   "source": []
  }
 ],
 "metadata": {
  "kernelspec": {
   "display_name": "Python 2",
   "language": "python",
   "name": "python2"
  }
 },
 "nbformat": 4,
 "nbformat_minor": 2
}
