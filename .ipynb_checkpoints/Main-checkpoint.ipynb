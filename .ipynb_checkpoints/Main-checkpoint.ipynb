{
 "cells": [
  {
   "cell_type": "code",
   "execution_count": 45,
   "metadata": {
    "collapsed": true,
    "deletable": true,
    "editable": true
   },
   "outputs": [],
   "source": [
    "from sklearn.decomposition import TruncatedSVD\n",
    "from sklearn.linear_model import SGDClassifier\n",
    "from sklearn.feature_extraction.text import TfidfVectorizer\n",
    "from sklearn.model_selection import train_test_split\n",
    "from sklearn.metrics import confusion_matrix\n",
    "from sklearn.metrics import f1_score\n",
    "import pandas as pd\n",
    "import numpy as np\n",
    "import matplotlib.pyplot as plt"
   ]
  },
  {
   "cell_type": "code",
   "execution_count": 46,
   "metadata": {
    "collapsed": false,
    "deletable": true,
    "editable": true
   },
   "outputs": [
    {
     "name": "stdout",
     "output_type": "stream",
     "text": [
      "(1500,) (1500,)\n"
     ]
    }
   ],
   "source": [
    "df = pd.read_csv('Dataset/1500_training_data.csv')\n",
    "X,y = df['tweet'],df['label']\n",
    "print X.shape, y.shape"
   ]
  },
  {
   "cell_type": "code",
   "execution_count": 47,
   "metadata": {
    "collapsed": false,
    "deletable": true,
    "editable": true
   },
   "outputs": [],
   "source": [
    "X_train, X_test, y_train, y_test = train_test_split(X, y, test_size=0.30, random_state = 45)"
   ]
  },
  {
   "cell_type": "markdown",
   "metadata": {
    "deletable": true,
    "editable": true
   },
   "source": [
    "# Feature Extraction (TF-IDF) unigrams and bigrams"
   ]
  },
  {
   "cell_type": "code",
   "execution_count": 48,
   "metadata": {
    "collapsed": false,
    "deletable": true,
    "editable": true
   },
   "outputs": [
    {
     "name": "stdout",
     "output_type": "stream",
     "text": [
      "[[ 0.          0.          0.         ...,  0.          0.          0.        ]\n",
      " [ 0.          0.          0.37682721 ...,  0.          0.          0.        ]\n",
      " [ 0.          0.          0.         ...,  0.          0.          0.        ]\n",
      " ..., \n",
      " [ 0.          0.          0.         ...,  0.          0.          0.        ]\n",
      " [ 0.          0.          0.         ...,  0.          0.          0.        ]\n",
      " [ 0.          0.          0.         ...,  0.          0.          0.        ]]\n",
      "(1050, 1774)\n"
     ]
    }
   ],
   "source": [
    "#   - Filters out terms that occur in only one document (min_df=2).\n",
    "vectorizer = TfidfVectorizer(use_idf=True, ngram_range=(1,2),min_df=2)\n",
    "X = vectorizer.fit_transform(X_train) \n",
    "train_tfidf_feature = X.toarray()\n",
    "print train_tfidf_feature\n",
    "print train_tfidf_feature.shape"
   ]
  },
  {
   "cell_type": "markdown",
   "metadata": {
    "deletable": true,
    "editable": true
   },
   "source": [
    "# Feature Extraction (LSA)\n",
    "Latent Semantic Analysis is a technique that analyzes relationship between a set of documents and of the terms. This method will extract contextual-usage meaning of words by statistical computations applied to a large corpus of text. \n",
    "\n",
    "Input: X[m][n] -> a matrix where m is the number of documents and n is the number of terms. \n",
    "\n",
    "The matrix X will be decomposed into three matrices called the U, S, and T. In doing the decomposition, a value of <i>k</i> will have to be picked since it will represent the number of concepts kept. \n",
    "\n",
    "<center>$X\\approx USV^{T} $</center>\n",
    "\n",
    "U[m][k] where the rows are the documents and the columns will be the mathematical concepts.\n",
    "\n",
    "S[k][k] is a diagonal matrix where elements will be the amount of variation captured from each concept. \n",
    "\n",
    "V[m][k] transpose where the rows will be terms and the columns will be concepts."
   ]
  },
  {
   "cell_type": "code",
   "execution_count": 49,
   "metadata": {
    "collapsed": false,
    "deletable": true,
    "editable": true,
    "scrolled": true
   },
   "outputs": [
    {
     "name": "stdout",
     "output_type": "stream",
     "text": [
      "(1050, 100)\n"
     ]
    }
   ],
   "source": [
    "lsa = TruncatedSVD(n_components = 100, n_iter=500)\n",
    "train_lsa_feature = lsa.fit_transform(X)\n",
    "print train_lsa_feature.shape"
   ]
  },
  {
   "cell_type": "code",
   "execution_count": 50,
   "metadata": {
    "collapsed": false,
    "deletable": true,
    "editable": true
   },
   "outputs": [],
   "source": [
    "# #### To view list of related concepts\n",
    "# terms = vectorizer.get_feature_names()\n",
    "# for i, comp in enumerate(lsa_feature):\n",
    "#     termsInComp = zip (terms, comp)\n",
    "#     sortedTerms = sorted(termsInComp, key=lambda x: x[1], reverse = True) [:10]\n",
    "#     print \"Concept %d:\" % i\n",
    "#     for term in sortedTerms:\n",
    "#         print term[0]\n",
    "#     print \" \""
   ]
  },
  {
   "cell_type": "markdown",
   "metadata": {
    "collapsed": true,
    "deletable": true,
    "editable": true
   },
   "source": [
    "# Incremental SVM Classifier"
   ]
  },
  {
   "cell_type": "markdown",
   "metadata": {
    "deletable": true,
    "editable": true
   },
   "source": [
    "# For TFIDF Feature only."
   ]
  },
  {
   "cell_type": "code",
   "execution_count": 51,
   "metadata": {
    "collapsed": false,
    "deletable": true,
    "editable": true
   },
   "outputs": [
    {
     "data": {
      "text/plain": [
       "SGDClassifier(alpha=0.0001, average=False, class_weight=None, epsilon=0.1,\n",
       "       eta0=0.0, fit_intercept=2, l1_ratio=0.15, learning_rate='optimal',\n",
       "       loss='hinge', n_iter=5, n_jobs=1, penalty='l2', power_t=0.5,\n",
       "       random_state=None, shuffle=True, verbose=0, warm_start=False)"
      ]
     },
     "execution_count": 51,
     "metadata": {},
     "output_type": "execute_result"
    }
   ],
   "source": [
    "clf = SGDClassifier(alpha=0.0001, average =False, epsilon = 0.1, \n",
    "                    fit_intercept = 2, loss=\"hinge\", \n",
    "                    penalty=\"l2\", shuffle=True)\n",
    "clf.partial_fit(train_tfidf_feature, y_train,classes=[0, 1])"
   ]
  },
  {
   "cell_type": "markdown",
   "metadata": {
    "deletable": true,
    "editable": true
   },
   "source": [
    "# For LSA Feature only."
   ]
  },
  {
   "cell_type": "code",
   "execution_count": 52,
   "metadata": {
    "collapsed": false,
    "deletable": true,
    "editable": true
   },
   "outputs": [
    {
     "data": {
      "text/plain": [
       "SGDClassifier(alpha=0.0001, average=False, class_weight=None, epsilon=0.1,\n",
       "       eta0=0.0, fit_intercept=2, l1_ratio=0.15, learning_rate='optimal',\n",
       "       loss='hinge', n_iter=5, n_jobs=1, penalty='l2', power_t=0.5,\n",
       "       random_state=None, shuffle=True, verbose=0, warm_start=False)"
      ]
     },
     "execution_count": 52,
     "metadata": {},
     "output_type": "execute_result"
    }
   ],
   "source": [
    "clf2 = SGDClassifier(alpha=0.0001, average =False, epsilon = 0.1, \n",
    "                    fit_intercept = 2, loss=\"hinge\", \n",
    "                    penalty=\"l2\", shuffle=True)\n",
    "clf2.partial_fit(train_lsa_feature, y_train,classes=[0, 1])"
   ]
  },
  {
   "cell_type": "markdown",
   "metadata": {
    "deletable": true,
    "editable": true
   },
   "source": [
    "# Concatenating features"
   ]
  },
  {
   "cell_type": "code",
   "execution_count": 53,
   "metadata": {
    "collapsed": false,
    "deletable": true,
    "editable": true
   },
   "outputs": [],
   "source": [
    "train_final_representation = np.concatenate((train_tfidf_feature,train_lsa_feature),axis=1)"
   ]
  },
  {
   "cell_type": "code",
   "execution_count": 54,
   "metadata": {
    "collapsed": false,
    "deletable": true,
    "editable": true
   },
   "outputs": [
    {
     "data": {
      "text/plain": [
       "SGDClassifier(alpha=0.0001, average=False, class_weight=None, epsilon=0.1,\n",
       "       eta0=0.0, fit_intercept=2, l1_ratio=0.15, learning_rate='optimal',\n",
       "       loss='hinge', n_iter=5, n_jobs=1, penalty='l2', power_t=0.5,\n",
       "       random_state=None, shuffle=True, verbose=0, warm_start=False)"
      ]
     },
     "execution_count": 54,
     "metadata": {},
     "output_type": "execute_result"
    }
   ],
   "source": [
    "clf3 = SGDClassifier(alpha=0.0001, average =False, epsilon = 0.1, \n",
    "                    fit_intercept = 2, loss=\"hinge\", \n",
    "                    penalty=\"l2\", shuffle=True)\n",
    "clf3.partial_fit(train_final_representation,y_train,classes=[0,1])"
   ]
  },
  {
   "cell_type": "markdown",
   "metadata": {
    "collapsed": true,
    "deletable": true,
    "editable": true
   },
   "source": [
    "# Testing Classifiers"
   ]
  },
  {
   "cell_type": "markdown",
   "metadata": {
    "deletable": true,
    "editable": true
   },
   "source": [
    "# For TFIDF Feature only."
   ]
  },
  {
   "cell_type": "code",
   "execution_count": 55,
   "metadata": {
    "collapsed": false,
    "deletable": true,
    "editable": true,
    "scrolled": true
   },
   "outputs": [
    {
     "name": "stdout",
     "output_type": "stream",
     "text": [
      "Accuracy:  70.8888888889\n"
     ]
    }
   ],
   "source": [
    "X2 = vectorizer.transform(X_test)\n",
    "test_tfidf_feature = X2.toarray()\n",
    "accuracy = clf.score(test_tfidf_feature, y_test) * 100\n",
    "prediction = clf.predict(test_tfidf_feature)\n",
    "print \"Accuracy: \", accuracy\n",
    "# print clf.coef_"
   ]
  },
  {
   "cell_type": "markdown",
   "metadata": {
    "deletable": true,
    "editable": true
   },
   "source": [
    "# For LSA Feature Only."
   ]
  },
  {
   "cell_type": "code",
   "execution_count": 56,
   "metadata": {
    "collapsed": false,
    "deletable": true,
    "editable": true
   },
   "outputs": [
    {
     "name": "stdout",
     "output_type": "stream",
     "text": [
      "Accuracy:  65.7777777778\n"
     ]
    }
   ],
   "source": [
    "test_lsa_feature = lsa.transform(X2)\n",
    "accuracy2 = clf2.score(test_lsa_feature, y_test) * 100\n",
    "prediction2 = clf2.predict(test_lsa_feature)\n",
    "print \"Accuracy: \",accuracy2"
   ]
  },
  {
   "cell_type": "markdown",
   "metadata": {
    "deletable": true,
    "editable": true
   },
   "source": [
    "# For Concatenated"
   ]
  },
  {
   "cell_type": "code",
   "execution_count": 57,
   "metadata": {
    "collapsed": false,
    "deletable": true,
    "editable": true
   },
   "outputs": [
    {
     "name": "stdout",
     "output_type": "stream",
     "text": [
      "Accuracy:  73.1111111111\n"
     ]
    }
   ],
   "source": [
    "test_final_representation = np.concatenate((test_tfidf_feature,test_lsa_feature),axis=1)\n",
    "accuracy3 = clf3.score(test_final_representation,y_test) *100\n",
    "prediction3 = clf3.predict(test_final_representation)\n",
    "print \"Accuracy: \",accuracy3\n",
    "# print \"Prediction: \",prediction3"
   ]
  },
  {
   "cell_type": "code",
   "execution_count": 58,
   "metadata": {
    "collapsed": false,
    "deletable": true,
    "editable": true
   },
   "outputs": [
    {
     "name": "stdout",
     "output_type": "stream",
     "text": [
      "[[  0.00000000e+00   0.00000000e+00   0.00000000e+00 ...,   2.25372838e-02\n",
      "    1.76958725e-02  -5.31410013e-03]\n",
      " [  0.00000000e+00   0.00000000e+00   0.00000000e+00 ...,   1.81546819e-02\n",
      "    2.53132398e-02   1.35568788e-02]\n",
      " [  0.00000000e+00   0.00000000e+00   0.00000000e+00 ...,  -2.34576970e-02\n",
      "    7.13325876e-02  -1.18233989e-02]\n",
      " ..., \n",
      " [  0.00000000e+00   0.00000000e+00   0.00000000e+00 ...,   4.96430352e-02\n",
      "    2.94950279e-02   2.16136486e-02]\n",
      " [  0.00000000e+00   0.00000000e+00   0.00000000e+00 ...,  -2.62160961e-02\n",
      "    7.57171647e-05   1.64606834e-02]\n",
      " [  0.00000000e+00   0.00000000e+00   0.00000000e+00 ...,  -1.46045923e-02\n",
      "    4.73952581e-02  -1.34125248e-02]]\n"
     ]
    }
   ],
   "source": [
    "print test_final_representation"
   ]
  },
  {
   "cell_type": "code",
   "execution_count": 59,
   "metadata": {
    "collapsed": false,
    "deletable": true,
    "editable": true
   },
   "outputs": [
    {
     "name": "stdout",
     "output_type": "stream",
     "text": [
      "CONFUSION MATRICES:\n",
      "------------------------\n",
      "TFIDF: \n",
      "[[242  58]\n",
      " [ 73  77]]\n",
      "LSA: \n",
      "[[202  98]\n",
      " [ 56  94]]\n",
      "CONCATENATED: \n",
      "[[261  39]\n",
      " [ 82  68]]\n"
     ]
    }
   ],
   "source": [
    "cf1 = confusion_matrix(y_test,prediction)\n",
    "print \"CONFUSION MATRICES:\"\n",
    "print    \"------------------------\"\n",
    "print \"TFIDF: \"\n",
    "print cf1\n",
    "\n",
    "cf2 = confusion_matrix(y_test,prediction2)\n",
    "print \"LSA: \"\n",
    "print cf2\n",
    "\n",
    "cf3 = confusion_matrix(y_test,prediction3)\n",
    "print \"CONCATENATED: \"\n",
    "print cf3\n"
   ]
  },
  {
   "cell_type": "code",
   "execution_count": 60,
   "metadata": {
    "collapsed": false,
    "deletable": true,
    "editable": true
   },
   "outputs": [
    {
     "name": "stdout",
     "output_type": "stream",
     "text": [
      "F-SCORES:\n",
      "--------------\n",
      "TFIDF: \n",
      "[ 0.78699187  0.54035088]\n",
      "LSA: \n",
      "[ 0.72401434  0.5497076 ]\n",
      "CONCATENATED: \n",
      "[ 0.8118196   0.52918288]\n"
     ]
    }
   ],
   "source": [
    "print \"F-SCORES:\"\n",
    "print\"--------------\"\n",
    "print \"TFIDF: \"\n",
    "print f1_score(y_test,prediction, average=None)\n",
    "\n",
    "print \"LSA: \"\n",
    "print f1_score(y_test,prediction2, average=None)\n",
    "\n",
    "print \"CONCATENATED: \"\n",
    "print f1_score(y_test,prediction3, average=None)"
   ]
  },
  {
   "cell_type": "code",
   "execution_count": 63,
   "metadata": {
    "collapsed": true
   },
   "outputs": [],
   "source": [
    "# save to pickle\n",
    "import pickle\n",
    "\n",
    "with open('System/classifier.pkl', 'wb') as f:\n",
    "    pickle.dump(clf3, f)\n",
    "    \n",
    "with open('System/vectorizer.pkl', 'wb') as f:\n",
    "    pickle.dump(vectorizer, f)\n",
    "    \n",
    "with open('System/lsa.pkl', 'wb') as f:\n",
    "    pickle.dump(lsa, f)\n"
   ]
  }
 ],
 "metadata": {
  "kernelspec": {
   "display_name": "Python 2",
   "language": "python",
   "name": "python2"
  },
  "language_info": {
   "codemirror_mode": {
    "name": "ipython",
    "version": 2
   },
   "file_extension": ".py",
   "mimetype": "text/x-python",
   "name": "python",
   "nbconvert_exporter": "python",
   "pygments_lexer": "ipython2",
   "version": "2.7.6"
  }
 },
 "nbformat": 4,
 "nbformat_minor": 2
}
