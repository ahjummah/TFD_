{
 "cells": [
  {
   "cell_type": "code",
   "execution_count": 118,
   "metadata": {
    "collapsed": true,
    "deletable": true,
    "editable": true
   },
   "outputs": [],
   "source": [
    "from sklearn.decomposition import TruncatedSVD\n",
    "from sklearn.linear_model import SGDClassifier\n",
    "from sklearn.feature_extraction.text import TfidfVectorizer\n",
    "from sklearn.model_selection import train_test_split\n",
    "from sklearn.metrics import confusion_matrix\n",
    "from sklearn.metrics import f1_score\n",
    "from sklearn.utils import compute_class_weight\n",
    "import pandas as pd\n",
    "import numpy as np\n",
    "import matplotlib.pyplot as plt"
   ]
  },
  {
   "cell_type": "code",
   "execution_count": 119,
   "metadata": {
    "collapsed": false,
    "deletable": true,
    "editable": true
   },
   "outputs": [
    {
     "name": "stdout",
     "output_type": "stream",
     "text": [
      "(2513,) (2513,)\n"
     ]
    }
   ],
   "source": [
    "df = pd.read_csv('Training_Dataset/2500_training_data_2.csv')\n",
    "X,y = df['tweet'],df['label']\n",
    "print X.shape, y.shape"
   ]
  },
  {
   "cell_type": "code",
   "execution_count": 120,
   "metadata": {
    "collapsed": false,
    "deletable": true,
    "editable": true
   },
   "outputs": [],
   "source": [
    "X_train, X_test, y_train, y_test = train_test_split(X, y, test_size=0.20, random_state = 45)\n",
    "# print X_train.shape\n",
    "# print X_train"
   ]
  },
  {
   "cell_type": "markdown",
   "metadata": {
    "deletable": true,
    "editable": true
   },
   "source": [
    "# Feature Extraction (TF-IDF) unigrams and bigrams"
   ]
  },
  {
   "cell_type": "code",
   "execution_count": 121,
   "metadata": {
    "collapsed": false,
    "deletable": true,
    "editable": true
   },
   "outputs": [],
   "source": [
    "#   - Filters out terms that occur in only one document (min_df=2).\n",
    "vectorizer = TfidfVectorizer(use_idf=True, ngram_range=(1,2),min_df=2)\n",
    "X = vectorizer.fit_transform(X_train) \n",
    "train_tfidf_feature = X.toarray()\n",
    "# print train_tfidf_feature\n",
    "# print train_tfidf_feature.shape"
   ]
  },
  {
   "cell_type": "markdown",
   "metadata": {
    "deletable": true,
    "editable": true
   },
   "source": [
    "# Feature Extraction (LSA)\n",
    "Latent Semantic Analysis is a technique that analyzes relationship between a set of documents and of the terms. This method will extract contextual-usage meaning of words by statistical computations applied to a large corpus of text. \n",
    "\n",
    "Input: X[m][n] -> a matrix where m is the number of documents and n is the number of terms. \n",
    "\n",
    "The matrix X will be decomposed into three matrices called the U, S, and T. In doing the decomposition, a value of <i>k</i> will have to be picked since it will represent the number of concepts kept. \n",
    "\n",
    "<center>$X\\approx USV^{T} $</center>\n",
    "\n",
    "U[m][k] where the rows are the documents and the columns will be the mathematical concepts.\n",
    "\n",
    "S[k][k] is a diagonal matrix where elements will be the amount of variation captured from each concept. \n",
    "\n",
    "V[m][k] transpose where the rows will be terms and the columns will be concepts."
   ]
  },
  {
   "cell_type": "code",
   "execution_count": 122,
   "metadata": {
    "collapsed": false,
    "deletable": true,
    "editable": true,
    "scrolled": true
   },
   "outputs": [
    {
     "name": "stdout",
     "output_type": "stream",
     "text": [
      "(2010, 500)\n"
     ]
    }
   ],
   "source": [
    "lsa = TruncatedSVD(n_components = 500, n_iter=500)\n",
    "train_lsa_feature = lsa.fit_transform(X)\n",
    "print train_lsa_feature.shape"
   ]
  },
  {
   "cell_type": "code",
   "execution_count": 123,
   "metadata": {
    "collapsed": false,
    "deletable": true,
    "editable": true
   },
   "outputs": [],
   "source": [
    "# #### To view list of related concepts\n",
    "# terms = vectorizer.get_feature_names()\n",
    "# for i, comp in enumerate(train_lsa_feature):\n",
    "#     termsInComp = zip (terms, comp)\n",
    "#     sortedTerms = sorted(termsInComp, key=lambda x: x[1], reverse = True) [:10]\n",
    "#     print \"Concept %d:\" % i\n",
    "#     for term in sortedTerms:\n",
    "#         print term[0]\n",
    "#     print \" \""
   ]
  },
  {
   "cell_type": "markdown",
   "metadata": {
    "collapsed": true,
    "deletable": true,
    "editable": true
   },
   "source": [
    "# SVM Classifier"
   ]
  },
  {
   "cell_type": "markdown",
   "metadata": {
    "deletable": true,
    "editable": true
   },
   "source": [
    "# Concatenating features"
   ]
  },
  {
   "cell_type": "code",
   "execution_count": 124,
   "metadata": {
    "collapsed": false,
    "deletable": true,
    "editable": true
   },
   "outputs": [],
   "source": [
    "train_final_representation = np.concatenate((train_tfidf_feature,train_lsa_feature),axis=1)"
   ]
  },
  {
   "cell_type": "code",
   "execution_count": 125,
   "metadata": {
    "collapsed": false,
    "deletable": true,
    "editable": true,
    "scrolled": true
   },
   "outputs": [
    {
     "data": {
      "text/plain": [
       "SGDClassifier(alpha=0.0001, average=False,\n",
       "       class_weight={1: 1.3945615982241952}, epsilon=0.1, eta0=0.0,\n",
       "       fit_intercept=True, l1_ratio=0.15, learning_rate='optimal',\n",
       "       loss='hinge', n_iter=5, n_jobs=1, penalty='l2', power_t=0.5,\n",
       "       random_state=None, shuffle=True, verbose=0, warm_start=False)"
      ]
     },
     "execution_count": 125,
     "metadata": {},
     "output_type": "execute_result"
    }
   ],
   "source": [
    "class_weights = compute_class_weight('balanced', [0, 1], y)\n",
    "class_weight_dictionary = {1:class_weights[0], 1:class_weights[1]}\n",
    "clf3 = SGDClassifier(class_weight=class_weight_dictionary,loss=\"hinge\",\n",
    "                    penalty=\"l2\", shuffle=True,)\n",
    "# clf3 = SGDClassifier(class_weight=class_weight_dictionary)\n",
    "clf3.partial_fit(train_final_representation,y_train,classes=[0,1])"
   ]
  },
  {
   "cell_type": "markdown",
   "metadata": {
    "collapsed": true,
    "deletable": true,
    "editable": true
   },
   "source": [
    "# Testing Classifier"
   ]
  },
  {
   "cell_type": "code",
   "execution_count": 126,
   "metadata": {
    "collapsed": true,
    "deletable": true,
    "editable": true
   },
   "outputs": [],
   "source": [
    "X2 = vectorizer.transform(X_test)\n",
    "test_tfidf_feature = X2.toarray()\n",
    "test_lsa_feature = lsa.transform(X2)"
   ]
  },
  {
   "cell_type": "code",
   "execution_count": 127,
   "metadata": {
    "collapsed": false,
    "deletable": true,
    "editable": true
   },
   "outputs": [
    {
     "name": "stdout",
     "output_type": "stream",
     "text": [
      "Accuracy:  73.1610337972\n"
     ]
    }
   ],
   "source": [
    "test_final_representation = np.concatenate((test_tfidf_feature,test_lsa_feature),axis=1)\n",
    "accuracy3 = clf3.score(test_final_representation,y_test) *100\n",
    "prediction3 = clf3.predict(test_final_representation)\n",
    "print \"Accuracy: \",accuracy3\n",
    "# print \"Prediction: \",prediction3"
   ]
  },
  {
   "cell_type": "code",
   "execution_count": 128,
   "metadata": {
    "collapsed": false,
    "deletable": true,
    "editable": true
   },
   "outputs": [
    {
     "name": "stdout",
     "output_type": "stream",
     "text": [
      "[[ 0.          0.          0.         ...,  0.03909189  0.01221405\n",
      "  -0.0065787 ]\n",
      " [ 0.          0.          0.         ...,  0.00477606 -0.00495635\n",
      "  -0.00140132]\n",
      " [ 0.          0.          0.         ...,  0.02636496 -0.06113918\n",
      "   0.00441372]\n",
      " ..., \n",
      " [ 0.          0.          0.         ...,  0.04607175 -0.02371487\n",
      "  -0.01091672]\n",
      " [ 0.          0.          0.         ...,  0.00424238  0.03222609\n",
      "  -0.04062164]\n",
      " [ 0.          0.          0.         ..., -0.01159308 -0.0289939\n",
      "   0.01185795]]\n"
     ]
    }
   ],
   "source": [
    "print test_final_representation"
   ]
  },
  {
   "cell_type": "code",
   "execution_count": 129,
   "metadata": {
    "collapsed": false,
    "deletable": true,
    "editable": true
   },
   "outputs": [
    {
     "name": "stdout",
     "output_type": "stream",
     "text": [
      "CONCATENATED: \n",
      "[[239  84]\n",
      " [ 51 129]]\n"
     ]
    }
   ],
   "source": [
    "cf3 = confusion_matrix(y_test,prediction3)\n",
    "print \"CONCATENATED: \"\n",
    "print cf3\n"
   ]
  },
  {
   "cell_type": "code",
   "execution_count": 130,
   "metadata": {
    "collapsed": false,
    "deletable": true,
    "editable": true
   },
   "outputs": [
    {
     "name": "stdout",
     "output_type": "stream",
     "text": [
      "CONCATENATED: \n",
      "[ 0.77977162  0.65648855]\n"
     ]
    }
   ],
   "source": [
    "print \"CONCATENATED: \"\n",
    "print f1_score(y_test,prediction3, average=None)"
   ]
  },
  {
   "cell_type": "code",
   "execution_count": 131,
   "metadata": {
    "collapsed": false,
    "deletable": true,
    "editable": true
   },
   "outputs": [],
   "source": [
    "# save to pickle\n",
    "import pickle\n",
    "\n",
    "with open('Models/classifier.pkl', 'wb') as f:\n",
    "    pickle.dump(clf3, f)\n",
    "    \n",
    "with open('Models/vectorizer.pkl', 'wb') as f:\n",
    "    pickle.dump(vectorizer, f)\n",
    "    \n",
    "with open('Models/lsa.pkl', 'wb') as f:\n",
    "    pickle.dump(lsa, f)\n"
   ]
  }
 ],
 "metadata": {
  "kernelspec": {
   "display_name": "Python 2",
   "language": "python",
   "name": "python2"
  },
  "language_info": {
   "codemirror_mode": {
    "name": "ipython",
    "version": 2
   },
   "file_extension": ".py",
   "mimetype": "text/x-python",
   "name": "python",
   "nbconvert_exporter": "python",
   "pygments_lexer": "ipython2",
   "version": "2.7.6"
  }
 },
 "nbformat": 4,
 "nbformat_minor": 2
}
