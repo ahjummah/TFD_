{
 "cells": [
  {
   "cell_type": "code",
   "execution_count": 26,
   "metadata": {
    "collapsed": true,
    "deletable": true,
    "editable": true
   },
   "outputs": [],
   "source": [
    "from sklearn.decomposition import TruncatedSVD\n",
    "from sklearn.linear_model import SGDClassifier\n",
    "from sklearn.feature_extraction.text import TfidfVectorizer\n",
    "from sklearn.model_selection import train_test_split\n",
    "from sklearn.metrics import confusion_matrix\n",
    "from sklearn.metrics import f1_score\n",
    "from sklearn.utils import compute_class_weight\n",
    "import pandas as pd\n",
    "import numpy as np\n",
    "import matplotlib.pyplot as plt"
   ]
  },
  {
   "cell_type": "code",
   "execution_count": 27,
   "metadata": {
    "collapsed": false,
    "deletable": true,
    "editable": true
   },
   "outputs": [
    {
     "name": "stdout",
     "output_type": "stream",
     "text": [
      "(2513,) (2513,)\n"
     ]
    }
   ],
   "source": [
    "df = pd.read_csv('Training_Dataset/2500_training_data_2.csv')\n",
    "X,y = df['tweet'],df['label']\n",
    "print X.shape, y.shape"
   ]
  },
  {
   "cell_type": "code",
   "execution_count": 28,
   "metadata": {
    "collapsed": false,
    "deletable": true,
    "editable": true
   },
   "outputs": [],
   "source": [
    "X_train, X_test, y_train, y_test = train_test_split(X, y, test_size=0.30, random_state = 45)\n",
    "# print X_train.shape\n",
    "# print X_train"
   ]
  },
  {
   "cell_type": "markdown",
   "metadata": {
    "deletable": true,
    "editable": true
   },
   "source": [
    "# Feature Extraction (TF-IDF) unigrams and bigrams"
   ]
  },
  {
   "cell_type": "code",
   "execution_count": null,
   "metadata": {
    "collapsed": false,
    "deletable": true,
    "editable": true
   },
   "outputs": [],
   "source": [
    "#   - Filters out terms that occur in only one document (min_df=2).\n",
    "vectorizer = TfidfVectorizer(use_idf=True, ngram_range=(1,2),min_df=2)\n",
    "X = vectorizer.fit_transform(X_train) \n",
    "train_tfidf_feature = X.toarray()\n",
    "# print train_tfidf_feature\n",
    "# print train_tfidf_feature.shape"
   ]
  },
  {
   "cell_type": "markdown",
   "metadata": {
    "deletable": true,
    "editable": true
   },
   "source": [
    "# Feature Extraction (LSA)\n",
    "Latent Semantic Analysis is a technique that analyzes relationship between a set of documents and of the terms. This method will extract contextual-usage meaning of words by statistical computations applied to a large corpus of text. \n",
    "\n",
    "Input: X[m][n] -> a matrix where m is the number of documents and n is the number of terms. \n",
    "\n",
    "The matrix X will be decomposed into three matrices called the U, S, and T. In doing the decomposition, a value of <i>k</i> will have to be picked since it will represent the number of concepts kept. \n",
    "\n",
    "<center>$X\\approx USV^{T} $</center>\n",
    "\n",
    "U[m][k] where the rows are the documents and the columns will be the mathematical concepts.\n",
    "\n",
    "S[k][k] is a diagonal matrix where elements will be the amount of variation captured from each concept. \n",
    "\n",
    "V[m][k] transpose where the rows will be terms and the columns will be concepts."
   ]
  },
  {
   "cell_type": "code",
   "execution_count": null,
   "metadata": {
    "collapsed": false,
    "deletable": true,
    "editable": true,
    "scrolled": true
   },
   "outputs": [],
   "source": [
    "lsa = TruncatedSVD(n_components = 500, n_iter=500)\n",
    "train_lsa_feature = lsa.fit_transform(X)\n",
    "print train_lsa_feature.shape"
   ]
  },
  {
   "cell_type": "code",
   "execution_count": null,
   "metadata": {
    "collapsed": false,
    "deletable": true,
    "editable": true
   },
   "outputs": [],
   "source": [
    "# #### To view list of related concepts\n",
    "# terms = vectorizer.get_feature_names()\n",
    "# for i, comp in enumerate(train_lsa_feature):\n",
    "#     termsInComp = zip (terms, comp)\n",
    "#     sortedTerms = sorted(termsInComp, key=lambda x: x[1], reverse = True) [:10]\n",
    "#     print \"Concept %d:\" % i\n",
    "#     for term in sortedTerms:\n",
    "#         print term[0]\n",
    "#     print \" \""
   ]
  },
  {
   "cell_type": "markdown",
   "metadata": {
    "collapsed": true,
    "deletable": true,
    "editable": true
   },
   "source": [
    "# Incremental SVM Classifier"
   ]
  },
  {
   "cell_type": "markdown",
   "metadata": {
    "deletable": true,
    "editable": true
   },
   "source": [
    "# Concatenating features"
   ]
  },
  {
   "cell_type": "code",
   "execution_count": null,
   "metadata": {
    "collapsed": false,
    "deletable": true,
    "editable": true
   },
   "outputs": [],
   "source": [
    "train_final_representation = np.concatenate((train_tfidf_feature,train_lsa_feature),axis=1)"
   ]
  },
  {
   "cell_type": "code",
   "execution_count": null,
   "metadata": {
    "collapsed": false,
    "deletable": true,
    "editable": true,
    "scrolled": true
   },
   "outputs": [],
   "source": [
    "class_weights = compute_class_weight('balanced', [0, 1], y)\n",
    "class_weight_dictionary = {1:class_weights[0], 1:class_weights[1]}\n",
    "clf3 = SGDClassifier(class_weight=class_weight_dictionary,loss=\"hinge\",\n",
    "                    penalty=\"l2\", shuffle=True,)\n",
    "# clf3 = SGDClassifier(class_weight=class_weight_dictionary)\n",
    "clf3.partial_fit(train_final_representation,y_train,classes=[0,1])"
   ]
  },
  {
   "cell_type": "markdown",
   "metadata": {
    "collapsed": true,
    "deletable": true,
    "editable": true
   },
   "source": [
    "# Testing Classifier"
   ]
  },
  {
   "cell_type": "code",
   "execution_count": null,
   "metadata": {
    "collapsed": true
   },
   "outputs": [],
   "source": [
    "X2 = vectorizer.transform(X_test)\n",
    "test_tfidf_feature = X2.toarray()\n",
    "test_lsa_feature = lsa.transform(X2)"
   ]
  },
  {
   "cell_type": "code",
   "execution_count": null,
   "metadata": {
    "collapsed": false,
    "deletable": true,
    "editable": true
   },
   "outputs": [],
   "source": [
    "test_final_representation = np.concatenate((test_tfidf_feature,test_lsa_feature),axis=1)\n",
    "accuracy3 = clf3.score(test_final_representation,y_test) *100\n",
    "prediction3 = clf3.predict(test_final_representation)\n",
    "print \"Accuracy: \",accuracy3\n",
    "# print \"Prediction: \",prediction3"
   ]
  },
  {
   "cell_type": "code",
   "execution_count": null,
   "metadata": {
    "collapsed": false,
    "deletable": true,
    "editable": true
   },
   "outputs": [],
   "source": [
    "print test_final_representation"
   ]
  },
  {
   "cell_type": "code",
   "execution_count": null,
   "metadata": {
    "collapsed": false,
    "deletable": true,
    "editable": true
   },
   "outputs": [],
   "source": [
    "cf3 = confusion_matrix(y_test,prediction3)\n",
    "print \"CONCATENATED: \"\n",
    "print cf3\n"
   ]
  },
  {
   "cell_type": "code",
   "execution_count": null,
   "metadata": {
    "collapsed": false,
    "deletable": true,
    "editable": true
   },
   "outputs": [],
   "source": [
    "print \"CONCATENATED: \"\n",
    "print f1_score(y_test,prediction3, average=None)"
   ]
  },
  {
   "cell_type": "code",
   "execution_count": null,
   "metadata": {
    "collapsed": false,
    "deletable": true,
    "editable": true
   },
   "outputs": [],
   "source": [
    "# save to pickle\n",
    "import pickle\n",
    "\n",
    "with open('Models/classifier.pkl', 'wb') as f:\n",
    "    pickle.dump(clf3, f)\n",
    "    \n",
    "with open('Models/vectorizer.pkl', 'wb') as f:\n",
    "    pickle.dump(vectorizer, f)\n",
    "    \n",
    "with open('Models/lsa.pkl', 'wb') as f:\n",
    "    pickle.dump(lsa, f)\n"
   ]
  }
 ],
 "metadata": {
  "kernelspec": {
   "display_name": "Python 2",
   "language": "python",
   "name": "python2"
  },
  "language_info": {
   "codemirror_mode": {
    "name": "ipython",
    "version": 2
   },
   "file_extension": ".py",
   "mimetype": "text/x-python",
   "name": "python",
   "nbconvert_exporter": "python",
   "pygments_lexer": "ipython2",
   "version": "2.7.13"
  }
 },
 "nbformat": 4,
 "nbformat_minor": 2
}
